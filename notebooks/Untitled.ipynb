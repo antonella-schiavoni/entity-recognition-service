{
 "cells": [
  {
   "cell_type": "code",
   "execution_count": 1,
   "id": "6a5beb73-68db-4d9e-9a12-c171c2fdb952",
   "metadata": {},
   "outputs": [],
   "source": [
    "import pandas as pd"
   ]
  },
  {
   "cell_type": "markdown",
   "id": "16331b09-5574-486e-a991-7e8289fec7ef",
   "metadata": {
    "tags": []
   },
   "source": [
    "# Load Data"
   ]
  },
  {
   "cell_type": "code",
   "execution_count": 2,
   "id": "35126769-f7c0-45f5-bd64-911c8118e623",
   "metadata": {},
   "outputs": [],
   "source": [
    "artists = pd.read_csv(\"data/artists.txt\", sep=\"\\t\", header=None, names=['name'])\n",
    "events_title = pd.read_csv(\"data/event_titles.txt\", sep=\"\\t\", header=None, names=['title'])"
   ]
  },
  {
   "cell_type": "markdown",
   "id": "7a7c7b0e-2354-4267-82fe-d2cbd7bf5fcb",
   "metadata": {
    "tags": []
   },
   "source": [
    "## Convert all text to lowercase"
   ]
  },
  {
   "cell_type": "code",
   "execution_count": 3,
   "id": "c0961498-ddde-4d90-86e1-647c89fc3d27",
   "metadata": {},
   "outputs": [],
   "source": [
    "#artists = artists.applymap(lambda s:s.lower() if type(s) == str else s)\n",
    "#events_title = events_title.applymap(lambda s:s.lower() if type(s) == str else s)"
   ]
  },
  {
   "cell_type": "code",
   "execution_count": 4,
   "id": "abf1c09e-f9a8-4cce-92a0-d0a428fff040",
   "metadata": {},
   "outputs": [
    {
     "data": {
      "text/html": [
       "<div>\n",
       "<style scoped>\n",
       "    .dataframe tbody tr th:only-of-type {\n",
       "        vertical-align: middle;\n",
       "    }\n",
       "\n",
       "    .dataframe tbody tr th {\n",
       "        vertical-align: top;\n",
       "    }\n",
       "\n",
       "    .dataframe thead th {\n",
       "        text-align: right;\n",
       "    }\n",
       "</style>\n",
       "<table border=\"1\" class=\"dataframe\">\n",
       "  <thead>\n",
       "    <tr style=\"text-align: right;\">\n",
       "      <th></th>\n",
       "      <th>name</th>\n",
       "    </tr>\n",
       "  </thead>\n",
       "  <tbody>\n",
       "    <tr>\n",
       "      <th>0</th>\n",
       "      <td>King Crimson</td>\n",
       "    </tr>\n",
       "    <tr>\n",
       "      <th>1</th>\n",
       "      <td>Beginner</td>\n",
       "    </tr>\n",
       "    <tr>\n",
       "      <th>2</th>\n",
       "      <td>Marcellus Pittman</td>\n",
       "    </tr>\n",
       "    <tr>\n",
       "      <th>3</th>\n",
       "      <td>Beck</td>\n",
       "    </tr>\n",
       "    <tr>\n",
       "      <th>4</th>\n",
       "      <td>Gästeliste Geisterbahn</td>\n",
       "    </tr>\n",
       "  </tbody>\n",
       "</table>\n",
       "</div>"
      ],
      "text/plain": [
       "                     name\n",
       "0            King Crimson\n",
       "1                Beginner\n",
       "2       Marcellus Pittman\n",
       "3                    Beck\n",
       "4  Gästeliste Geisterbahn"
      ]
     },
     "execution_count": 4,
     "metadata": {},
     "output_type": "execute_result"
    }
   ],
   "source": [
    "artists.head()"
   ]
  },
  {
   "cell_type": "code",
   "execution_count": 5,
   "id": "0a1a14d3-fa50-4444-91c2-a96f9133f7d2",
   "metadata": {},
   "outputs": [
    {
     "data": {
      "text/html": [
       "<div>\n",
       "<style scoped>\n",
       "    .dataframe tbody tr th:only-of-type {\n",
       "        vertical-align: middle;\n",
       "    }\n",
       "\n",
       "    .dataframe tbody tr th {\n",
       "        vertical-align: top;\n",
       "    }\n",
       "\n",
       "    .dataframe thead th {\n",
       "        text-align: right;\n",
       "    }\n",
       "</style>\n",
       "<table border=\"1\" class=\"dataframe\">\n",
       "  <thead>\n",
       "    <tr style=\"text-align: right;\">\n",
       "      <th></th>\n",
       "      <th>title</th>\n",
       "    </tr>\n",
       "  </thead>\n",
       "  <tbody>\n",
       "    <tr>\n",
       "      <th>0</th>\n",
       "      <td>Jamey Johnson</td>\n",
       "    </tr>\n",
       "    <tr>\n",
       "      <th>1</th>\n",
       "      <td>Alex the Astronaut &amp; Stella Donnelly - Adelaid...</td>\n",
       "    </tr>\n",
       "    <tr>\n",
       "      <th>2</th>\n",
       "      <td>Bad Bunny - La Nueva Religion Tour</td>\n",
       "    </tr>\n",
       "    <tr>\n",
       "      <th>3</th>\n",
       "      <td>Julien Baker at The Burl</td>\n",
       "    </tr>\n",
       "    <tr>\n",
       "      <th>4</th>\n",
       "      <td>SWING pres. Sam Paganini &amp; Zøe</td>\n",
       "    </tr>\n",
       "    <tr>\n",
       "      <th>5</th>\n",
       "      <td>Dinosaur Jr Unoffical After Party</td>\n",
       "    </tr>\n",
       "    <tr>\n",
       "      <th>6</th>\n",
       "      <td>Ed Sheeran at CenturyLink Field!</td>\n",
       "    </tr>\n",
       "    <tr>\n",
       "      <th>7</th>\n",
       "      <td>Sally•Can't•Dance - 40th Anniversary of The Ro...</td>\n",
       "    </tr>\n",
       "    <tr>\n",
       "      <th>8</th>\n",
       "      <td>Teksupport_OTB: Adriatique, Brian Cid</td>\n",
       "    </tr>\n",
       "    <tr>\n",
       "      <th>9</th>\n",
       "      <td>Bert Visscher - Hij wordt vanzelf moe</td>\n",
       "    </tr>\n",
       "  </tbody>\n",
       "</table>\n",
       "</div>"
      ],
      "text/plain": [
       "                                               title\n",
       "0                                      Jamey Johnson\n",
       "1  Alex the Astronaut & Stella Donnelly - Adelaid...\n",
       "2                 Bad Bunny - La Nueva Religion Tour\n",
       "3                           Julien Baker at The Burl\n",
       "4                     SWING pres. Sam Paganini & Zøe\n",
       "5                  Dinosaur Jr Unoffical After Party\n",
       "6                   Ed Sheeran at CenturyLink Field!\n",
       "7  Sally•Can't•Dance - 40th Anniversary of The Ro...\n",
       "8              Teksupport_OTB: Adriatique, Brian Cid\n",
       "9              Bert Visscher - Hij wordt vanzelf moe"
      ]
     },
     "execution_count": 5,
     "metadata": {},
     "output_type": "execute_result"
    }
   ],
   "source": [
    "events_title.head(n=10)"
   ]
  },
  {
   "cell_type": "markdown",
   "id": "df8c74cd-4ef3-40c6-b1fd-c3eda4160ecc",
   "metadata": {
    "tags": []
   },
   "source": [
    "# Random Sample For Manual Annotation"
   ]
  },
  {
   "cell_type": "code",
   "execution_count": 6,
   "id": "3a9b7b0e-65af-445c-9039-cdf4f3a022da",
   "metadata": {},
   "outputs": [
    {
     "ename": "NameError",
     "evalue": "name 'sample_events_title' is not defined",
     "output_type": "error",
     "traceback": [
      "\u001B[0;31m---------------------------------------------------------------------------\u001B[0m",
      "\u001B[0;31mNameError\u001B[0m                                 Traceback (most recent call last)",
      "\u001B[0;32m/var/folders/9y/rzcxbcg95792qg5gfw6wtq440000gn/T/ipykernel_10449/2234686335.py\u001B[0m in \u001B[0;36m<module>\u001B[0;34m\u001B[0m\n\u001B[0;32m----> 1\u001B[0;31m \u001B[0msample_events_title\u001B[0m\u001B[0;34m[\u001B[0m\u001B[0;34m'title'\u001B[0m\u001B[0;34m]\u001B[0m \u001B[0;34m=\u001B[0m \u001B[0mevents_title\u001B[0m\u001B[0;34m[\u001B[0m\u001B[0;34m'title'\u001B[0m\u001B[0;34m]\u001B[0m\u001B[0;34m.\u001B[0m\u001B[0msample\u001B[0m\u001B[0;34m(\u001B[0m\u001B[0mn\u001B[0m\u001B[0;34m=\u001B[0m\u001B[0;36m50\u001B[0m\u001B[0;34m,\u001B[0m \u001B[0mrandom_state\u001B[0m\u001B[0;34m=\u001B[0m\u001B[0;36m1\u001B[0m\u001B[0;34m)\u001B[0m\u001B[0;34m\u001B[0m\u001B[0;34m\u001B[0m\u001B[0m\n\u001B[0m",
      "\u001B[0;31mNameError\u001B[0m: name 'sample_events_title' is not defined"
     ]
    }
   ],
   "source": [
    "sample_events_title['title'] = events_title['title'].sample(n=50, random_state=1)"
   ]
  },
  {
   "cell_type": "code",
   "execution_count": null,
   "id": "8fe4318d-7f24-4c89-a4b1-3e2063913413",
   "metadata": {},
   "outputs": [],
   "source": [
    "sample_events_title.to_csv(\"data/sample_events_titles.csv\")"
   ]
  },
  {
   "cell_type": "markdown",
   "id": "3dae68cc-49bd-470d-a4e1-1bbc461d7da7",
   "metadata": {},
   "source": [
    "# Explore Preprocessing"
   ]
  },
  {
   "cell_type": "markdown",
   "id": "45ab0778-d6e3-49cf-9e2f-ae1978be54e9",
   "metadata": {},
   "source": [
    "After doing a general analysis on the event title dataset, here are some observations:\n",
    "\n",
    "- The character \"-\" seems to separate information. More precisely, it looks like it could be useful to identify the location of the event, tour names or slogans\n",
    "- The character \"&\" and \",\" seems to be separating artists."
   ]
  },
  {
   "cell_type": "code",
   "execution_count": 7,
   "id": "9e244296-4461-4738-b7ff-60b2e75260e0",
   "metadata": {},
   "outputs": [],
   "source": [
    "chars_to_remove = ['•']\n",
    "split_chars = ['-', '&']"
   ]
  },
  {
   "cell_type": "code",
   "execution_count": 8,
   "id": "b8b265b4-f7a9-4dbd-a23c-50185a78d1c0",
   "metadata": {},
   "outputs": [],
   "source": [
    "def remove_characters(s: str):\n",
    "    for char in chars_to_remove:\n",
    "        s.replace(char, \"\");\n",
    "    return s"
   ]
  },
  {
   "cell_type": "code",
   "execution_count": 9,
   "id": "d2ff8ee1-437d-4fce-ae1d-a42fb0c66583",
   "metadata": {},
   "outputs": [],
   "source": [
    "events_title = events_title.applymap(lambda s: remove_characters(s) if type(s) == str else s)"
   ]
  },
  {
   "cell_type": "code",
   "execution_count": 10,
   "id": "1bc5551e-9489-45fc-a6ba-13747e1321fd",
   "metadata": {},
   "outputs": [
    {
     "data": {
      "text/html": [
       "<div>\n",
       "<style scoped>\n",
       "    .dataframe tbody tr th:only-of-type {\n",
       "        vertical-align: middle;\n",
       "    }\n",
       "\n",
       "    .dataframe tbody tr th {\n",
       "        vertical-align: top;\n",
       "    }\n",
       "\n",
       "    .dataframe thead th {\n",
       "        text-align: right;\n",
       "    }\n",
       "</style>\n",
       "<table border=\"1\" class=\"dataframe\">\n",
       "  <thead>\n",
       "    <tr style=\"text-align: right;\">\n",
       "      <th></th>\n",
       "      <th>title</th>\n",
       "    </tr>\n",
       "  </thead>\n",
       "  <tbody>\n",
       "    <tr>\n",
       "      <th>0</th>\n",
       "      <td>Jamey Johnson</td>\n",
       "    </tr>\n",
       "    <tr>\n",
       "      <th>1</th>\n",
       "      <td>Alex the Astronaut &amp; Stella Donnelly - Adelaid...</td>\n",
       "    </tr>\n",
       "    <tr>\n",
       "      <th>2</th>\n",
       "      <td>Bad Bunny - La Nueva Religion Tour</td>\n",
       "    </tr>\n",
       "    <tr>\n",
       "      <th>3</th>\n",
       "      <td>Julien Baker at The Burl</td>\n",
       "    </tr>\n",
       "    <tr>\n",
       "      <th>4</th>\n",
       "      <td>SWING pres. Sam Paganini &amp; Zøe</td>\n",
       "    </tr>\n",
       "  </tbody>\n",
       "</table>\n",
       "</div>"
      ],
      "text/plain": [
       "                                               title\n",
       "0                                      Jamey Johnson\n",
       "1  Alex the Astronaut & Stella Donnelly - Adelaid...\n",
       "2                 Bad Bunny - La Nueva Religion Tour\n",
       "3                           Julien Baker at The Burl\n",
       "4                     SWING pres. Sam Paganini & Zøe"
      ]
     },
     "execution_count": 10,
     "metadata": {},
     "output_type": "execute_result"
    }
   ],
   "source": [
    "events_title.head()"
   ]
  },
  {
   "cell_type": "code",
   "execution_count": 11,
   "id": "e29732e8-2215-49a8-810f-caccf41dfebf",
   "metadata": {},
   "outputs": [],
   "source": [
    "def split_text(s: str):\n",
    "    result = []\n",
    "    for char in split_chars:\n",
    "        result.extend(s.split(char))\n",
    "    return result"
   ]
  },
  {
   "cell_type": "code",
   "execution_count": 12,
   "id": "d3f1e115-6a8c-4967-8b24-4778bb660628",
   "metadata": {},
   "outputs": [],
   "source": [
    "events_title['splitted_text'] = events_title.applymap(lambda s: split_text(s) if type(s) == str else s)"
   ]
  },
  {
   "cell_type": "code",
   "execution_count": 13,
   "id": "a0b0c489-81b7-48cb-9f90-6c99c3e401e0",
   "metadata": {},
   "outputs": [
    {
     "data": {
      "text/html": [
       "<div>\n",
       "<style scoped>\n",
       "    .dataframe tbody tr th:only-of-type {\n",
       "        vertical-align: middle;\n",
       "    }\n",
       "\n",
       "    .dataframe tbody tr th {\n",
       "        vertical-align: top;\n",
       "    }\n",
       "\n",
       "    .dataframe thead th {\n",
       "        text-align: right;\n",
       "    }\n",
       "</style>\n",
       "<table border=\"1\" class=\"dataframe\">\n",
       "  <thead>\n",
       "    <tr style=\"text-align: right;\">\n",
       "      <th></th>\n",
       "      <th>title</th>\n",
       "      <th>splitted_text</th>\n",
       "    </tr>\n",
       "  </thead>\n",
       "  <tbody>\n",
       "    <tr>\n",
       "      <th>0</th>\n",
       "      <td>Jamey Johnson</td>\n",
       "      <td>[Jamey Johnson, Jamey Johnson]</td>\n",
       "    </tr>\n",
       "    <tr>\n",
       "      <th>1</th>\n",
       "      <td>Alex the Astronaut &amp; Stella Donnelly - Adelaid...</td>\n",
       "      <td>[Alex the Astronaut &amp; Stella Donnelly ,  Adela...</td>\n",
       "    </tr>\n",
       "    <tr>\n",
       "      <th>2</th>\n",
       "      <td>Bad Bunny - La Nueva Religion Tour</td>\n",
       "      <td>[Bad Bunny ,  La Nueva Religion Tour, Bad Bunn...</td>\n",
       "    </tr>\n",
       "    <tr>\n",
       "      <th>3</th>\n",
       "      <td>Julien Baker at The Burl</td>\n",
       "      <td>[Julien Baker at The Burl, Julien Baker at The...</td>\n",
       "    </tr>\n",
       "    <tr>\n",
       "      <th>4</th>\n",
       "      <td>SWING pres. Sam Paganini &amp; Zøe</td>\n",
       "      <td>[SWING pres. Sam Paganini &amp; Zøe, SWING pres. S...</td>\n",
       "    </tr>\n",
       "    <tr>\n",
       "      <th>...</th>\n",
       "      <td>...</td>\n",
       "      <td>...</td>\n",
       "    </tr>\n",
       "    <tr>\n",
       "      <th>1222</th>\n",
       "      <td>Clowns Celebrate Love w/ Matchmaker Sasha Silb...</td>\n",
       "      <td>[Clowns Celebrate Love w/ Matchmaker Sasha Sil...</td>\n",
       "    </tr>\n",
       "    <tr>\n",
       "      <th>1223</th>\n",
       "      <td>Aurora &amp; the Betrayers // Loco Club</td>\n",
       "      <td>[Aurora &amp; the Betrayers // Loco Club, Aurora ,...</td>\n",
       "    </tr>\n",
       "    <tr>\n",
       "      <th>1224</th>\n",
       "      <td>Desolat with Loco Dice - All Night Terrace Party</td>\n",
       "      <td>[Desolat with Loco Dice ,  All Night Terrace P...</td>\n",
       "    </tr>\n",
       "    <tr>\n",
       "      <th>1225</th>\n",
       "      <td>Jeff Dunham in Ontario</td>\n",
       "      <td>[Jeff Dunham in Ontario, Jeff Dunham in Ontario]</td>\n",
       "    </tr>\n",
       "    <tr>\n",
       "      <th>1226</th>\n",
       "      <td>Full Moon Gathering: March 2018</td>\n",
       "      <td>[Full Moon Gathering: March 2018, Full Moon Ga...</td>\n",
       "    </tr>\n",
       "  </tbody>\n",
       "</table>\n",
       "<p>1227 rows × 2 columns</p>\n",
       "</div>"
      ],
      "text/plain": [
       "                                                  title  \\\n",
       "0                                         Jamey Johnson   \n",
       "1     Alex the Astronaut & Stella Donnelly - Adelaid...   \n",
       "2                    Bad Bunny - La Nueva Religion Tour   \n",
       "3                              Julien Baker at The Burl   \n",
       "4                        SWING pres. Sam Paganini & Zøe   \n",
       "...                                                 ...   \n",
       "1222  Clowns Celebrate Love w/ Matchmaker Sasha Silb...   \n",
       "1223                Aurora & the Betrayers // Loco Club   \n",
       "1224   Desolat with Loco Dice - All Night Terrace Party   \n",
       "1225                             Jeff Dunham in Ontario   \n",
       "1226                    Full Moon Gathering: March 2018   \n",
       "\n",
       "                                          splitted_text  \n",
       "0                        [Jamey Johnson, Jamey Johnson]  \n",
       "1     [Alex the Astronaut & Stella Donnelly ,  Adela...  \n",
       "2     [Bad Bunny ,  La Nueva Religion Tour, Bad Bunn...  \n",
       "3     [Julien Baker at The Burl, Julien Baker at The...  \n",
       "4     [SWING pres. Sam Paganini & Zøe, SWING pres. S...  \n",
       "...                                                 ...  \n",
       "1222  [Clowns Celebrate Love w/ Matchmaker Sasha Sil...  \n",
       "1223  [Aurora & the Betrayers // Loco Club, Aurora ,...  \n",
       "1224  [Desolat with Loco Dice ,  All Night Terrace P...  \n",
       "1225   [Jeff Dunham in Ontario, Jeff Dunham in Ontario]  \n",
       "1226  [Full Moon Gathering: March 2018, Full Moon Ga...  \n",
       "\n",
       "[1227 rows x 2 columns]"
      ]
     },
     "execution_count": 13,
     "metadata": {},
     "output_type": "execute_result"
    }
   ],
   "source": [
    "events_title"
   ]
  },
  {
   "cell_type": "code",
   "execution_count": 14,
   "id": "7148609c-fdf4-4e87-ade5-bd7d0989234f",
   "metadata": {},
   "outputs": [
    {
     "data": {
      "text/plain": [
       "['Alex the Astronaut & Stella Donnelly ',\n",
       " ' Adelaide, SA',\n",
       " 'Alex the Astronaut ',\n",
       " ' Stella Donnelly - Adelaide, SA']"
      ]
     },
     "execution_count": 14,
     "metadata": {},
     "output_type": "execute_result"
    }
   ],
   "source": [
    "events_title['splitted_text'].loc[1]"
   ]
  },
  {
   "cell_type": "markdown",
   "id": "06172b0c-eb51-4080-a19d-a07609d09919",
   "metadata": {
    "tags": []
   },
   "source": [
    "# Explore NER Models"
   ]
  },
  {
   "cell_type": "markdown",
   "id": "eb89eead-bba1-41e6-a9e4-5e06461f6adf",
   "metadata": {
    "jp-MarkdownHeadingCollapsed": true,
    "tags": []
   },
   "source": [
    "## Hugging Face"
   ]
  },
  {
   "cell_type": "code",
   "execution_count": null,
   "id": "9e222207-6e33-4b20-8b58-91b521ee6141",
   "metadata": {},
   "outputs": [],
   "source": [
    "from transformers import AutoTokenizer, AutoModelForTokenClassification\n",
    "from transformers import pipeline"
   ]
  },
  {
   "cell_type": "code",
   "execution_count": null,
   "id": "bf69aa1c-16db-48bb-a281-8916ccd786e7",
   "metadata": {},
   "outputs": [],
   "source": [
    "tokenizer = AutoTokenizer.from_pretrained(\"dslim/bert-base-NER\")\n",
    "model = AutoModelForTokenClassification.from_pretrained(\"dslim/bert-base-NER\")"
   ]
  },
  {
   "cell_type": "code",
   "execution_count": null,
   "id": "3667cf3f-7d8e-40bd-bdfb-20f88d2bc6e8",
   "metadata": {},
   "outputs": [],
   "source": [
    "nlp = pipeline(\"ner\", model=model, tokenizer=tokenizer)"
   ]
  },
  {
   "cell_type": "markdown",
   "id": "7065957f-f828-47ea-90c6-06fd189a3dd2",
   "metadata": {
    "jp-MarkdownHeadingCollapsed": true,
    "tags": []
   },
   "source": [
    "### Test"
   ]
  },
  {
   "cell_type": "code",
   "execution_count": null,
   "id": "b04a5150-ef30-4f88-972c-07862f80d6f8",
   "metadata": {},
   "outputs": [],
   "source": [
    "import pprint\n",
    "\n",
    "example = \"Six Nations Rugby - Italy vs England\"\n",
    "\n",
    "ner_results = nlp(example)\n",
    "pprint.pprint(ner_results)"
   ]
  },
  {
   "cell_type": "code",
   "execution_count": null,
   "id": "18d83fba-67c1-4cd7-bf3e-d0fa34d82f76",
   "metadata": {},
   "outputs": [],
   "source": [
    "event_list = events_title.title.to_list()"
   ]
  },
  {
   "cell_type": "code",
   "execution_count": null,
   "id": "07b761ed-6f87-452e-a10b-f63347ecf065",
   "metadata": {},
   "outputs": [],
   "source": [
    "results = []\n",
    "ENTITIES = ['B-LOC', 'I-LOC', 'B-PER', 'I-PER', 'B-ORG', 'I-ORG']\n",
    "for event in event_list:\n",
    "    ner_results = nlp(event)\n",
    "    if ner_results:\n",
    "        locations = [r for r in ner_results if r.get('entity') in ENTITIES]\n",
    "        if len(locations) > 0:\n",
    "            results.append(locations)\n"
   ]
  },
  {
   "cell_type": "code",
   "execution_count": null,
   "id": "ae411f33-28f0-4325-8409-2242b215420e",
   "metadata": {},
   "outputs": [],
   "source": [
    "print(f\"Number of entities recognized: {len(results)}\")\n",
    "print(f\"Number of events in the dataset: {len(event_list)}\")"
   ]
  },
  {
   "cell_type": "markdown",
   "id": "7caab5c8-cd32-46d5-a30a-1b8fa4fd0484",
   "metadata": {},
   "source": [
    "## Spacy"
   ]
  },
  {
   "cell_type": "code",
   "execution_count": 15,
   "id": "39880268-415b-4a94-8750-09aee9dba217",
   "metadata": {},
   "outputs": [],
   "source": [
    "import spacy\n",
    "from spacy import displacy"
   ]
  },
  {
   "cell_type": "code",
   "execution_count": 20,
   "id": "68acca13-bf9d-440f-b1c8-cf4b6fc7fa24",
   "metadata": {},
   "outputs": [],
   "source": [
    "NER2 = spacy.load(\"en_core_web_lg\")"
   ]
  },
  {
   "cell_type": "code",
   "execution_count": 17,
   "id": "991a6cfe-bb67-4bc9-bb5d-d43c60f431bd",
   "metadata": {},
   "outputs": [],
   "source": [
    "NER = spacy.load(\"en_core_web_trf\")"
   ]
  },
  {
   "cell_type": "markdown",
   "id": "4134f8fa-7d15-457b-9660-171d70f9276e",
   "metadata": {
    "tags": []
   },
   "source": [
    "## Test"
   ]
  },
  {
   "cell_type": "markdown",
   "id": "0028903d-ad81-4d64-8a49-7b6b0f980682",
   "metadata": {},
   "source": [
    "Using en_core_web_trf"
   ]
  },
  {
   "cell_type": "code",
   "execution_count": 18,
   "id": "30730c9a-2955-436a-ab70-79414cc025fb",
   "metadata": {},
   "outputs": [
    {
     "name": "stdout",
     "output_type": "stream",
     "text": [
      "THEMM PERSON\n",
      "midnight TIME\n"
     ]
    }
   ],
   "source": [
    "raw_text = \"Future • Special guests THEMM / Bubba & Friends • £2 Drinks before midnight\"\n",
    "text1 = NER(raw_text)\n",
    "for word in text1.ents:\n",
    "    print(word.text,word.label_)"
   ]
  },
  {
   "cell_type": "markdown",
   "id": "ba252e28-a051-4fd9-a664-fcb0540221cd",
   "metadata": {},
   "source": [
    "Using en_core_web_lg"
   ]
  },
  {
   "cell_type": "code",
   "execution_count": 34,
   "id": "ca0e3242-6c85-482b-bd03-eb286d6bb1e9",
   "metadata": {},
   "outputs": [
    {
     "name": "stdout",
     "output_type": "stream",
     "text": [
      "using en_core_web_trf\n",
      "Cirque Du Soleil WORK_OF_ART\n",
      "Toruk ORG\n",
      "Torino GPE\n",
      "\n",
      "\n",
      "using en_core_web_lg\n",
      "Cirque Du Soleil ORG\n",
      "\n",
      "\n",
      "using en_core_web_trf\n",
      "Sat. January 13th DATE\n",
      "\n",
      "\n",
      "Australian NORP\n",
      "February 2018 DATE\n",
      "\n",
      "\n",
      "Random Rab WORK_OF_ART\n",
      "The Chop Shop WORK_OF_ART\n",
      "Edamame PERSON\n",
      "March 8th 2018 DATE\n",
      "\n",
      "\n",
      "using en_core_web_lg\n",
      "January 13th DATE\n",
      "February 2018 DATE\n",
      "Random Rab PERSON\n",
      "The Chop Shop w/ Edamame - March 8th ORG\n",
      "2018 DATE\n"
     ]
    }
   ],
   "source": [
    "print(\"using en_core_web_trf\")\n",
    "raw_text = [\"Cirque Du Soleil: Toruk - Il Primo Volo / Torino\"]\n",
    "for text in raw_text:\n",
    "    text_ner = NER(text)\n",
    "    for word in text_ner.ents:\n",
    "        print(word.text,word.label_)\n",
    "    print(\"\\n\")\n",
    "  \n",
    "\n",
    "print(\"using en_core_web_lg\")\n",
    "raw_text = [\"Cirque Du Soleil: Toruk - Il Primo Volo / Torino\"]\n",
    "for text in raw_text:\n",
    "    text_ner = NER2(text)\n",
    "    for word in text_ner.ents:\n",
    "        print(word.text,word.label_)\n",
    "    print(\"\\n\")\n",
    "        \n",
    "print(\"using en_core_web_trf\")\n",
    "raw_text = [\"Lil Pump STORY - Sat. January 13th\",\n",
    "            \"Cattle Decapitation Australian Tour February 2018 w/ Psycroptic\",\n",
    "            \"Random Rab at The Chop Shop w/ Edamame - March 8th 2018\"]\n",
    "for text in raw_text:\n",
    "    text_ner = NER(text)\n",
    "    for word in text_ner.ents:\n",
    "        print(word.text,word.label_)\n",
    "    print(\"\\n\")\n",
    "  \n",
    "\n",
    "print(\"using en_core_web_lg\")\n",
    "raw_text = [\"Lil Pump STORY - Sat. January 13th\",\n",
    "            \"Cattle Decapitation Australian Tour February 2018 w/ Psycroptic\",\n",
    "            \"Random Rab at The Chop Shop w/ Edamame - March 8th 2018\"]\n",
    "for text in raw_text:\n",
    "    text_ner = NER2(text)\n",
    "    for word in text_ner.ents:\n",
    "        print(word.text,word.label_)\n",
    "    "
   ]
  },
  {
   "cell_type": "markdown",
   "id": "95937236-024d-4337-a995-80dd0a7c0496",
   "metadata": {
    "tags": []
   },
   "source": [
    "## Apply Spacy NER to the entire dataset"
   ]
  },
  {
   "cell_type": "code",
   "execution_count": null,
   "id": "a3251d1f-83a5-4c93-a484-f851ba9b8ab8",
   "metadata": {},
   "outputs": [],
   "source": [
    "events_title.head()"
   ]
  },
  {
   "cell_type": "code",
   "execution_count": null,
   "id": "abdc91d8-6afc-4c8f-a478-424f7420c878",
   "metadata": {},
   "outputs": [],
   "source": [
    "event_list = events_title['splitted_text'].to_list()\n",
    "results = []\n",
    "for event_text in event_list:\n",
    "    for text in event_text:\n",
    "        ner_results = NER(text)\n",
    "        for word in ner_results.ents:\n",
    "            results.append({\"word\":word, \"entities\": word.label_})"
   ]
  },
  {
   "cell_type": "code",
   "execution_count": null,
   "id": "5e8332fb-a241-4280-93f0-8f41ddcce694",
   "metadata": {},
   "outputs": [],
   "source": [
    "events_title['splitted_text'].loc[1]"
   ]
  },
  {
   "cell_type": "code",
   "execution_count": null,
   "id": "2d641804-7b31-4aa2-8ed9-ab13f171ba28",
   "metadata": {},
   "outputs": [],
   "source": [
    "results[:15]"
   ]
  },
  {
   "cell_type": "code",
   "execution_count": null,
   "id": "d23745fb-d156-4d70-ad5d-872d2299df3c",
   "metadata": {},
   "outputs": [],
   "source": []
  }
 ],
 "metadata": {
  "kernelspec": {
   "display_name": "Python 3 (ipykernel)",
   "language": "python",
   "name": "python3"
  },
  "language_info": {
   "codemirror_mode": {
    "name": "ipython",
    "version": 3
   },
   "file_extension": ".py",
   "mimetype": "text/x-python",
   "name": "python",
   "nbconvert_exporter": "python",
   "pygments_lexer": "ipython3",
   "version": "3.8.8"
  }
 },
 "nbformat": 4,
 "nbformat_minor": 5
}